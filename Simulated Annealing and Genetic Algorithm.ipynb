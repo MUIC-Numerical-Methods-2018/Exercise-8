{
 "cells": [
  {
   "cell_type": "markdown",
   "metadata": {},
   "source": [
    "# Simulated Annealing"
   ]
  },
  {
   "cell_type": "markdown",
   "metadata": {},
   "source": [
    "1) Why is it a bad idea to reject all the worse solutions?"
   ]
  },
  {
   "cell_type": "code",
   "execution_count": null,
   "metadata": {},
   "outputs": [],
   "source": []
  },
  {
   "cell_type": "markdown",
   "metadata": {},
   "source": [
    "2) Where do we want to accept worse solution?"
   ]
  },
  {
   "cell_type": "code",
   "execution_count": null,
   "metadata": {},
   "outputs": [],
   "source": []
  },
  {
   "cell_type": "markdown",
   "metadata": {},
   "source": [
    "3) Where do we not want to accept worse solution?"
   ]
  },
  {
   "cell_type": "code",
   "execution_count": null,
   "metadata": {},
   "outputs": [],
   "source": []
  },
  {
   "cell_type": "markdown",
   "metadata": {},
   "source": [
    "4) What is the relation between Temperature and the probability of accepting worse solution?"
   ]
  },
  {
   "cell_type": "code",
   "execution_count": null,
   "metadata": {},
   "outputs": [],
   "source": []
  },
  {
   "cell_type": "markdown",
   "metadata": {},
   "source": [
    "5) When do we want the temperate to be high and when do we want temperature to be low?"
   ]
  },
  {
   "cell_type": "code",
   "execution_count": null,
   "metadata": {},
   "outputs": [],
   "source": []
  },
  {
   "cell_type": "markdown",
   "metadata": {},
   "source": [
    "6) What's wrong if the temperature decrease too fast?"
   ]
  },
  {
   "cell_type": "code",
   "execution_count": null,
   "metadata": {},
   "outputs": [],
   "source": []
  },
  {
   "cell_type": "markdown",
   "metadata": {},
   "source": [
    "7) What's wrong if the temperature decrease too slow?"
   ]
  },
  {
   "cell_type": "code",
   "execution_count": null,
   "metadata": {},
   "outputs": [],
   "source": []
  },
  {
   "cell_type": "markdown",
   "metadata": {},
   "source": [
    "## Let's put that to practice"
   ]
  },
  {
   "cell_type": "markdown",
   "metadata": {},
   "source": [
    "Consider Travelling Salesman Problem (TSP)\n",
    "\n",
    "The goal is to travel to all the cities with minimal costs. The cost for travelling from city `i` to city `j` is given by `ticket[i,j]`. Find an optimized travel route."
   ]
  },
  {
   "cell_type": "code",
   "execution_count": 149,
   "metadata": {},
   "outputs": [
    {
     "data": {
      "text/plain": [
       "array([[0.        , 1.64865203, 0.76251293, ..., 1.41691071, 1.68532879,\n",
       "        1.18846028],\n",
       "       [1.64865203, 0.        , 1.46793495, ..., 1.20053847, 0.74524662,\n",
       "        0.06614164],\n",
       "       [0.76251293, 1.46793495, 0.        , ..., 1.5821031 , 1.5519496 ,\n",
       "        0.60656556],\n",
       "       ...,\n",
       "       [1.41691071, 1.20053847, 1.5821031 , ..., 0.        , 0.67057843,\n",
       "        0.93708992],\n",
       "       [1.68532879, 0.74524662, 1.5519496 , ..., 0.67057843, 0.        ,\n",
       "        1.00642475],\n",
       "       [1.18846028, 0.06614164, 0.60656556, ..., 0.93708992, 1.00642475,\n",
       "        0.        ]])"
      ]
     },
     "execution_count": 149,
     "metadata": {},
     "output_type": "execute_result"
    }
   ],
   "source": [
    "import numpy as np\n",
    "np.random.seed(333)\n",
    "ticket = np.random.rand(30,30)*2\n",
    "ticket = (s + s.T)/2\n",
    "np.fill_diagonal(ticket, 0)\n",
    "ticket"
   ]
  },
  {
   "cell_type": "code",
   "execution_count": null,
   "metadata": {},
   "outputs": [],
   "source": []
  },
  {
   "cell_type": "markdown",
   "metadata": {},
   "source": [
    "## Genetic Algorithm"
   ]
  },
  {
   "cell_type": "markdown",
   "metadata": {},
   "source": [
    "## 1) Summarize the basic idea here"
   ]
  },
  {
   "cell_type": "code",
   "execution_count": null,
   "metadata": {},
   "outputs": [],
   "source": []
  },
  {
   "cell_type": "markdown",
   "metadata": {},
   "source": [
    "# Knapsack Problem"
   ]
  },
  {
   "cell_type": "code",
   "execution_count": 145,
   "metadata": {},
   "outputs": [],
   "source": [
    "np.random.seed(888)\n",
    "\n",
    "w = np.random.random(30)\n",
    "v = np.random.random(30)\n",
    "\n",
    "max_w = 12"
   ]
  },
  {
   "cell_type": "code",
   "execution_count": 146,
   "metadata": {},
   "outputs": [],
   "source": [
    "def fit_to_constrain(sol):#remove item until it fit within\n",
    "    tmp = sol.copy()\n",
    "    while max_w < sum(w*tmp):\n",
    "        i = np.random.randint(len(tmp))\n",
    "        tmp[i] = 0\n",
    "    return tmp\n",
    "\n",
    "def cross_over(sol1, sol2):#slice two solution\n",
    "    n = len(sol1)\n",
    "    mask = np.random.random(len(sol1)) > 0.5\n",
    "    tmp = np.zeros(n)\n",
    "    tmp[mask] = sol1[mask]\n",
    "    tmp[~mask] = sol2[~mask]\n",
    "    return tmp\n",
    "\n",
    "def mutate(sol):#mutate a solution\n",
    "    n = len(sol)\n",
    "    tmp = sol.copy()\n",
    "    i = np.random.randint(len(tmp))\n",
    "    tmp[i] = 1 if tmp[i]==0 else 0\n",
    "    return tmp\n",
    "\n",
    "def cost(sol): #get the sum\n",
    "    return np.sum(v*sol)\n",
    " \n",
    "def gen_sol(n=30): # generate a solution\n",
    "    return np.random.randint(0,2, size=n)"
   ]
  },
  {
   "cell_type": "code",
   "execution_count": null,
   "metadata": {},
   "outputs": [],
   "source": [
    "#combine that for solving knapsack problem"
   ]
  }
 ],
 "metadata": {
  "kernelspec": {
   "display_name": "Python 3",
   "language": "python",
   "name": "python3"
  },
  "language_info": {
   "codemirror_mode": {
    "name": "ipython",
    "version": 3
   },
   "file_extension": ".py",
   "mimetype": "text/x-python",
   "name": "python",
   "nbconvert_exporter": "python",
   "pygments_lexer": "ipython3",
   "version": "3.7.0"
  },
  "toc": {
   "colors": {
    "hover_highlight": "#DAA520",
    "running_highlight": "#FF0000",
    "selected_highlight": "#FFD700"
   },
   "moveMenuLeft": true,
   "nav_menu": {
    "height": "102px",
    "width": "252px"
   },
   "navigate_menu": true,
   "number_sections": false,
   "sideBar": true,
   "threshold": 4,
   "toc_cell": false,
   "toc_section_display": "block",
   "toc_window_display": false
  }
 },
 "nbformat": 4,
 "nbformat_minor": 2
}
